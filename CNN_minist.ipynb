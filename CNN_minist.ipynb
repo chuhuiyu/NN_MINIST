{
  "nbformat": 4,
  "nbformat_minor": 0,
  "metadata": {
    "colab": {
      "name": "CNN_minist.ipynb",
      "provenance": [],
      "collapsed_sections": []
    },
    "kernelspec": {
      "name": "python3",
      "display_name": "Python 3"
    },
    "accelerator": "GPU"
  },
  "cells": [
    {
      "cell_type": "markdown",
      "metadata": {
        "id": "BWZdMAd3QeS_",
        "colab_type": "text"
      },
      "source": [
        "# 1. Mount Drive , Prepare Dataset"
      ]
    },
    {
      "cell_type": "code",
      "metadata": {
        "id": "VCuS6h_F93Y0",
        "colab_type": "code",
        "colab": {
          "base_uri": "https://localhost:8080/",
          "height": 125
        },
        "outputId": "29830a96-e804-4a6c-f999-b261b4835634"
      },
      "source": [
        "from google.colab import drive\n",
        "\n",
        "drive.mount('/content/gdrive')"
      ],
      "execution_count": 1,
      "outputs": [
        {
          "output_type": "stream",
          "text": [
            "Go to this URL in a browser: https://accounts.google.com/o/oauth2/auth?client_id=947318989803-6bn6qk8qdgf4n4g3pfee6491hc0brc4i.apps.googleusercontent.com&redirect_uri=urn%3aietf%3awg%3aoauth%3a2.0%3aoob&response_type=code&scope=email%20https%3a%2f%2fwww.googleapis.com%2fauth%2fdocs.test%20https%3a%2f%2fwww.googleapis.com%2fauth%2fdrive%20https%3a%2f%2fwww.googleapis.com%2fauth%2fdrive.photos.readonly%20https%3a%2f%2fwww.googleapis.com%2fauth%2fpeopleapi.readonly\n",
            "\n",
            "Enter your authorization code:\n",
            "··········\n",
            "Mounted at /content/gdrive\n"
          ],
          "name": "stdout"
        }
      ]
    },
    {
      "cell_type": "code",
      "metadata": {
        "id": "Qi8VygIyFfTv",
        "colab_type": "code",
        "colab": {
          "base_uri": "https://localhost:8080/",
          "height": 87
        },
        "outputId": "2b76d693-dfc4-4424-ba2e-f9ed12d96026"
      },
      "source": [
        "import os\n",
        "path = \"/content/gdrive/My Drive/MINIST\"\n",
        "\n",
        "os.chdir(path)\n",
        "os.listdir(path)"
      ],
      "execution_count": 2,
      "outputs": [
        {
          "output_type": "execute_result",
          "data": {
            "text/plain": [
              "['train-images.idx3-ubyte',\n",
              " 'train-labels.idx1-ubyte',\n",
              " 't10k-images.idx3-ubyte',\n",
              " 't10k-labels.idx1-ubyte']"
            ]
          },
          "metadata": {
            "tags": []
          },
          "execution_count": 2
        }
      ]
    },
    {
      "cell_type": "code",
      "metadata": {
        "id": "GZLzhJfbFvvM",
        "colab_type": "code",
        "colab": {
          "base_uri": "https://localhost:8080/",
          "height": 34
        },
        "outputId": "cbd02b4f-6c77-4156-8881-be66ba98c9f5"
      },
      "source": [
        "import numpy as np \n",
        "import struct \n",
        "   \n",
        "from PIL import Image \n",
        "import os \n",
        " \n",
        "def train():\n",
        "    data_file = path+'/train-images.idx3-ubyte'\n",
        "    data_file_size = 47040000\n",
        "    data_file_size = str(data_file_size ) + 'B' \n",
        "       \n",
        "    data_buf = open(data_file, 'rb').read() \n",
        "       \n",
        "    magic, numImages, numRows, numColumns = struct.unpack_from('>IIII', data_buf, 0) \n",
        "\n",
        "    datas = struct.unpack_from('>' + data_file_size, data_buf, struct.calcsize('>IIII')) \n",
        " \n",
        "    datas = np.array(datas).astype(np.uint8).reshape( numImages, 1, numRows, numColumns) \n",
        "       \n",
        "    label_file = path+'/train-labels.idx1-ubyte'\n",
        " \n",
        "    label_file_size = 60000\n",
        "    label_file_size = str(label_file_size) + 'B' \n",
        "       \n",
        "    label_buf = open(label_file, 'rb').read() \n",
        "       \n",
        "    magic, numLabels = struct.unpack_from('>II', label_buf, 0) \n",
        "    labels = struct.unpack_from('>' + label_file_size, label_buf, struct.calcsize('>II')) \n",
        "    labels = np.array(labels).astype(np.int64) \n",
        "       \n",
        "    return datas,labels\n",
        " \n",
        " \n",
        " \n",
        "def test():\n",
        "    data_file = path+'/t10k-images.idx3-ubyte'\n",
        " \n",
        "    data_file_size = 7840000\n",
        "    data_file_size = str(data_file_size ) + 'B' \n",
        "       \n",
        "    data_buf = open(data_file, 'rb').read() \n",
        "       \n",
        "    magic, numImages, numRows, numColumns = struct.unpack_from('>IIII', data_buf, 0) \n",
        "    datas = struct.unpack_from('>' + data_file_size, data_buf, struct.calcsize('>IIII')) \n",
        "    datas = np.array(datas).astype(np.uint8).reshape( numImages, 1, numRows, numColumns) \n",
        "       \n",
        "    label_file =path+ '/t10k-labels.idx1-ubyte'\n",
        " \n",
        "    label_file_size = 10000\n",
        "    label_file_size = str(label_file_size ) + 'B' \n",
        "       \n",
        "    label_buf = open(label_file, 'rb').read() \n",
        "       \n",
        "    magic, numLabels = struct.unpack_from('>II', label_buf, 0) \n",
        "    labels = struct.unpack_from('>' + label_file_size, label_buf, struct.calcsize('>II')) \n",
        "    labels = np.array(labels).astype(np.int64) \n",
        "       \n",
        "    return datas,labels\n",
        " \n",
        " \n",
        "if __name__ == '__main__':\n",
        "    trimg,trlb = train()\n",
        "    teimg,telb = test()\n",
        "    print(trimg.shape)"
      ],
      "execution_count": 3,
      "outputs": [
        {
          "output_type": "stream",
          "text": [
            "(60000, 1, 28, 28)\n"
          ],
          "name": "stdout"
        }
      ]
    },
    {
      "cell_type": "markdown",
      "metadata": {
        "id": "gSXWg07eQATp",
        "colab_type": "text"
      },
      "source": [
        "# 2. Dataset和DataLoader"
      ]
    },
    {
      "cell_type": "code",
      "metadata": {
        "id": "iYJjkF-mGrSV",
        "colab_type": "code",
        "colab": {
          "base_uri": "https://localhost:8080/",
          "height": 300
        },
        "outputId": "d8722fbf-1fe2-46a6-afb0-a991eedbf973"
      },
      "source": [
        "from torch.utils.data import Dataset,DataLoader\n",
        "import numpy as np \n",
        "from sklearn.preprocessing import MinMaxScaler\n",
        "import matplotlib.pyplot as plt \n",
        "import torchvision.transforms as transforms\n",
        "import torchvision\n",
        "\n",
        "transf = transforms.Compose(\n",
        "    [transforms.ToTensor(),\n",
        "     transforms.Normalize(0.5,0.5)]\n",
        ")\n",
        "class MINIST_ds(Dataset):\n",
        "  def __init__(self,typ,transform=None):\n",
        "    if typ == 'train':\n",
        "      self.img = trimg\n",
        "      self.lb = trlb\n",
        "    else:\n",
        "      self.img = teimg\n",
        "      self.lb = telb  \n",
        "\n",
        "    self.sp_len = self.img.shape[0]\n",
        "    self.samples = []\n",
        "    for idx in range(self.sp_len):\n",
        "      mms = MinMaxScaler()\n",
        "      onesample = mms.fit_transform(self.img[idx][0])\n",
        "      if transform is not None:\n",
        "        onesample = transform(onesample)\n",
        "      self.samples.append((onesample,self.lb[idx]))\n",
        "  def __len__(self):\n",
        "    return self.sp_len\n",
        "  \n",
        "  def __getitem__(self,idx):\n",
        "    return self.samples[idx]\n",
        "\n",
        "DS = {x: MINIST_ds(x,transf) for x in ['train','val']}\n",
        "DL = {x: DataLoader(DS[x], batch_size = 10, shuffle = True, num_workers = 0) for x in['train','val']}\n",
        "print(DS['train'][0][0].shape)\n",
        "plt.imshow(DS['train'][0][0][0],cmap='gray')"
      ],
      "execution_count": 4,
      "outputs": [
        {
          "output_type": "stream",
          "text": [
            "torch.Size([1, 28, 28])\n"
          ],
          "name": "stdout"
        },
        {
          "output_type": "execute_result",
          "data": {
            "text/plain": [
              "<matplotlib.image.AxesImage at 0x7fa90193e2b0>"
            ]
          },
          "metadata": {
            "tags": []
          },
          "execution_count": 4
        },
        {
          "output_type": "display_data",
          "data": {
            "image/png": "[encoded data removed]",
            "text/plain": [
              "<Figure size 432x288 with 1 Axes>"
            ]
          },
          "metadata": {
            "tags": [],
            "needs_background": "light"
          }
        }
      ]
    },
    {
      "cell_type": "code",
      "metadata": {
        "id": "GXNR-HyVMCj1",
        "colab_type": "code",
        "colab": {
          "base_uri": "https://localhost:8080/",
          "height": 34
        },
        "outputId": "19e7fc3b-d751-4dfe-970c-9b6b9c2797d7"
      },
      "source": [
        "import torch\n",
        "\n",
        "device = torch.device(\"cuda:0\" if torch.cuda.is_available() else \"cpu\")\n",
        "print(device)"
      ],
      "execution_count": 5,
      "outputs": [
        {
          "output_type": "stream",
          "text": [
            "cuda:0\n"
          ],
          "name": "stdout"
        }
      ]
    },
    {
      "cell_type": "code",
      "metadata": {
        "id": "SOcYXmd3NJ1K",
        "colab_type": "code",
        "colab": {
          "base_uri": "https://localhost:8080/",
          "height": 34
        },
        "outputId": "edf65f84-027c-4fac-95a5-261ed0ad4c03"
      },
      "source": [
        "type(DS['train'][0][0])"
      ],
      "execution_count": 6,
      "outputs": [
        {
          "output_type": "execute_result",
          "data": {
            "text/plain": [
              "torch.Tensor"
            ]
          },
          "metadata": {
            "tags": []
          },
          "execution_count": 6
        }
      ]
    },
    {
      "cell_type": "code",
      "metadata": {
        "id": "PFLcNBcpNXYT",
        "colab_type": "code",
        "colab": {
          "base_uri": "https://localhost:8080/",
          "height": 172
        },
        "outputId": "c9d37de4-1a18-4417-8767-b129b2bf8102"
      },
      "source": [
        "dataiter = iter(DL['train'])\n",
        "images,labels = dataiter.next()\n",
        "grid_img = torchvision.utils.make_grid(images)\n",
        "plt.imshow(np.transpose(grid_img.numpy(), (1, 2, 0)),cmap='gray')"
      ],
      "execution_count": 7,
      "outputs": [
        {
          "output_type": "stream",
          "text": [
            "Clipping input data to the valid range for imshow with RGB data ([0..1] for floats or [0..255] for integers).\n"
          ],
          "name": "stderr"
        },
        {
          "output_type": "execute_result",
          "data": {
            "text/plain": [
              "<matplotlib.image.AxesImage at 0x7fa8f96a4898>"
            ]
          },
          "metadata": {
            "tags": []
          },
          "execution_count": 7
        },
        {
          "output_type": "display_data",
          "data": {
            "image/png": "[encoded data removed]",
            "text/plain": [
              "<Figure size 432x288 with 1 Axes>"
            ]
          },
          "metadata": {
            "tags": [],
            "needs_background": "light"
          }
        }
      ]
    },
    {
      "cell_type": "markdown",
      "metadata": {
        "id": "0aYu6QI1P3aA",
        "colab_type": "text"
      },
      "source": [
        "# 3. Convolutional Neural Network"
      ]
    },
    {
      "cell_type": "code",
      "metadata": {
        "id": "8HHCyUY1Qpvu",
        "colab_type": "code",
        "colab": {}
      },
      "source": [
        "import torch.nn as nn\n",
        "import torch.nn.functional as F\n",
        "\n",
        "\n",
        "class Net(nn.Module):\n",
        "    def __init__(self):\n",
        "        super(Net, self).__init__()\n",
        "        self.conv1 = nn.Conv2d(in_channels=1,out_channels=6,kernel_size=3,padding=1)\n",
        "        self.pool = nn.MaxPool2d(2, 2)\n",
        "        self.conv2 = nn.Conv2d(in_channels=6,out_channels=16,kernel_size=3,padding=1)\n",
        "        self.fc1 = nn.Linear(16 * 7 * 7, 120)\n",
        "        self.fc2 = nn.Linear(120, 84)\n",
        "        self.fc3 = nn.Linear(84, 10)\n",
        "\n",
        "    def forward(self, x):\n",
        "        x = self.pool(F.relu(self.conv1(x)))\n",
        "        x = self.pool(F.relu(self.conv2(x)))\n",
        "        x = x.view(-1, 16 * 7 * 7)\n",
        "        x = F.relu(self.fc1(x))\n",
        "        x = F.relu(self.fc2(x))\n",
        "        x = self.fc3(x)\n",
        "        return x\n",
        "\n",
        "\n",
        "net = Net()"
      ],
      "execution_count": 0,
      "outputs": []
    },
    {
      "cell_type": "code",
      "metadata": {
        "id": "bBGXN-1-SdjO",
        "colab_type": "code",
        "colab": {}
      },
      "source": [
        "def train_model(model, criterion, optimizer, scheduler, num_epochs=5):\n",
        "    since = time.time()\n",
        "\n",
        "    best_model_wts = copy.deepcopy(model.state_dict())\n",
        "    best_acc = 0.0\n",
        "\n",
        "    for epoch in range(num_epochs):\n",
        "        print('Epoch {}/{}'.format(epoch, num_epochs - 1))\n",
        "        print('-' * 10)\n",
        "\n",
        "        # Each epoch has a training and validation phase\n",
        "        for phase in ['train', 'val']:\n",
        "            if phase == 'train':\n",
        "                model.train()  # Set model to training mode\n",
        "            else:\n",
        "                model.eval()   # Set model to evaluate mode\n",
        "\n",
        "            running_loss = 0.0\n",
        "            running_corrects = 0\n",
        "\n",
        "            # Iterate over data.\n",
        "            for inputs, labels in DL[phase]:\n",
        "                inputs = inputs.double()\n",
        "                inputs = inputs.to(device)\n",
        "                labels = labels.to(device)\n",
        "\n",
        "                # zero the parameter gradients\n",
        "                optimizer.zero_grad()\n",
        "\n",
        "                # forward\n",
        "                # track history if only in train\n",
        "                with torch.set_grad_enabled(phase == 'train'):\n",
        "                    outputs = model(inputs)\n",
        "                    _, preds = torch.max(outputs, 1)\n",
        "                    loss = criterion(outputs, labels)\n",
        "\n",
        "                    # backward + optimize only if in training phase\n",
        "                    if phase == 'train':\n",
        "                        loss.backward()\n",
        "                        optimizer.step()\n",
        "\n",
        "                # statistics\n",
        "                running_loss += loss.item() * inputs.size(0)\n",
        "                running_corrects += torch.sum(preds == labels.data)\n",
        "            if phase == 'train':\n",
        "                scheduler.step()\n",
        "\n",
        "            epoch_loss = running_loss / dataset_sizes[phase]\n",
        "            epoch_acc = running_corrects.double() / dataset_sizes[phase]\n",
        "\n",
        "            print('{} Loss: {:.4f} Acc: {:.4f}'.format(\n",
        "                phase, epoch_loss, epoch_acc))\n",
        "\n",
        "            # deep copy the model\n",
        "            if phase == 'val' and epoch_acc > best_acc:\n",
        "                best_acc = epoch_acc\n",
        "                best_model_wts = copy.deepcopy(model.state_dict())\n",
        "\n",
        "        print()\n",
        "\n",
        "    time_elapsed = time.time() - since\n",
        "    print('Training complete in {:.0f}m {:.0f}s'.format(\n",
        "        time_elapsed // 60, time_elapsed % 60))\n",
        "    print('Best val Acc: {:4f}'.format(best_acc))\n",
        "\n",
        "    # load best model weights\n",
        "    model.load_state_dict(best_model_wts)\n",
        "    return model"
      ],
      "execution_count": 0,
      "outputs": []
    },
    {
      "cell_type": "code",
      "metadata": {
        "id": "A8URSyGaS5Nf",
        "colab_type": "code",
        "colab": {}
      },
      "source": [
        "import torch\n",
        "import torch.nn as nn\n",
        "import torch.optim as optim\n",
        "from torch.optim import lr_scheduler\n",
        "import numpy as np\n",
        "import torchvision\n",
        "from torchvision import datasets, models, transforms\n",
        "import matplotlib.pyplot as plt\n",
        "import time\n",
        "import os\n",
        "import copy\n",
        "\n",
        "\n",
        "model_ft = Net()\n",
        "model_ft = model_ft.double()\n",
        "# Here the size of each output sample is set to 2.\n",
        "# Alternatively, it can be generalized to nn.Linear(num_ftrs, len(class_names)).\n",
        "model_ft = model_ft.to(device)\n",
        "\n",
        "criterion = nn.CrossEntropyLoss()\n",
        "\n",
        "# Observe that all parameters are being optimized\n",
        "optimizer_ft = optim.SGD(model_ft.parameters(), lr=0.001, momentum=0.9)\n",
        "\n",
        "# Decay LR by a factor of 0.1 every 7 epochs\n",
        "exp_lr_scheduler = lr_scheduler.StepLR(optimizer_ft, step_size=7, gamma=0.1)"
      ],
      "execution_count": 0,
      "outputs": []
    },
    {
      "cell_type": "code",
      "metadata": {
        "id": "Sk7dJ9NcTGs-",
        "colab_type": "code",
        "colab": {
          "base_uri": "https://localhost:8080/",
          "height": 1000
        },
        "outputId": "759574f7-d310-42fd-f0b4-dc44c3418e3a"
      },
      "source": [
        "import time\n",
        "import copy\n",
        "\n",
        "dataset_sizes = {x: len(DS[x]) for x in ['train', 'val']}\n",
        "model_ft = train_model(model_ft, criterion, optimizer_ft, exp_lr_scheduler,\n",
        "                       num_epochs=25)"
      ],
      "execution_count": 12,
      "outputs": [
        {
          "output_type": "stream",
          "text": [
            "Epoch 0/24\n",
            "----------\n",
            "train Loss: 0.6748 Acc: 0.7796\n",
            "val Loss: 0.1142 Acc: 0.9626\n",
            "\n",
            "Epoch 1/24\n",
            "----------\n",
            "train Loss: 0.0926 Acc: 0.9711\n",
            "val Loss: 0.0682 Acc: 0.9791\n",
            "\n",
            "Epoch 2/24\n",
            "----------\n",
            "train Loss: 0.0609 Acc: 0.9810\n",
            "val Loss: 0.0515 Acc: 0.9827\n",
            "\n",
            "Epoch 3/24\n",
            "----------\n",
            "train Loss: 0.0474 Acc: 0.9850\n",
            "val Loss: 0.0427 Acc: 0.9858\n",
            "\n",
            "Epoch 4/24\n",
            "----------\n",
            "train Loss: 0.0381 Acc: 0.9884\n",
            "val Loss: 0.0417 Acc: 0.9862\n",
            "\n",
            "Epoch 5/24\n",
            "----------\n",
            "train Loss: 0.0317 Acc: 0.9900\n",
            "val Loss: 0.0360 Acc: 0.9883\n",
            "\n",
            "Epoch 6/24\n",
            "----------\n",
            "train Loss: 0.0258 Acc: 0.9918\n",
            "val Loss: 0.0361 Acc: 0.9888\n",
            "\n",
            "Epoch 7/24\n",
            "----------\n",
            "train Loss: 0.0160 Acc: 0.9956\n",
            "val Loss: 0.0295 Acc: 0.9899\n",
            "\n",
            "Epoch 8/24\n",
            "----------\n",
            "train Loss: 0.0141 Acc: 0.9964\n",
            "val Loss: 0.0291 Acc: 0.9902\n",
            "\n",
            "Epoch 9/24\n",
            "----------\n",
            "train Loss: 0.0134 Acc: 0.9964\n",
            "val Loss: 0.0289 Acc: 0.9910\n",
            "\n",
            "Epoch 10/24\n",
            "----------\n",
            "train Loss: 0.0128 Acc: 0.9968\n",
            "val Loss: 0.0287 Acc: 0.9905\n",
            "\n",
            "Epoch 11/24\n",
            "----------\n",
            "train Loss: 0.0124 Acc: 0.9969\n",
            "val Loss: 0.0290 Acc: 0.9902\n",
            "\n",
            "Epoch 12/24\n",
            "----------\n",
            "train Loss: 0.0119 Acc: 0.9970\n",
            "val Loss: 0.0287 Acc: 0.9910\n",
            "\n",
            "Epoch 13/24\n",
            "----------\n",
            "train Loss: 0.0116 Acc: 0.9970\n",
            "val Loss: 0.0290 Acc: 0.9908\n",
            "\n",
            "Epoch 14/24\n",
            "----------\n",
            "train Loss: 0.0107 Acc: 0.9974\n",
            "val Loss: 0.0290 Acc: 0.9903\n",
            "\n",
            "Epoch 15/24\n",
            "----------\n",
            "train Loss: 0.0106 Acc: 0.9975\n",
            "val Loss: 0.0291 Acc: 0.9904\n",
            "\n",
            "Epoch 16/24\n",
            "----------\n",
            "train Loss: 0.0105 Acc: 0.9975\n",
            "val Loss: 0.0292 Acc: 0.9904\n",
            "\n",
            "Epoch 17/24\n",
            "----------\n",
            "train Loss: 0.0105 Acc: 0.9975\n",
            "val Loss: 0.0292 Acc: 0.9904\n",
            "\n",
            "Epoch 18/24\n",
            "----------\n",
            "train Loss: 0.0104 Acc: 0.9976\n",
            "val Loss: 0.0292 Acc: 0.9904\n",
            "\n",
            "Epoch 19/24\n",
            "----------\n",
            "train Loss: 0.0104 Acc: 0.9975\n",
            "val Loss: 0.0293 Acc: 0.9904\n",
            "\n",
            "Epoch 20/24\n",
            "----------\n",
            "train Loss: 0.0104 Acc: 0.9975\n",
            "val Loss: 0.0293 Acc: 0.9903\n",
            "\n",
            "Epoch 21/24\n",
            "----------\n",
            "train Loss: 0.0103 Acc: 0.9976\n",
            "val Loss: 0.0293 Acc: 0.9903\n",
            "\n",
            "Epoch 22/24\n",
            "----------\n",
            "train Loss: 0.0103 Acc: 0.9976\n",
            "val Loss: 0.0293 Acc: 0.9903\n",
            "\n",
            "Epoch 23/24\n",
            "----------\n",
            "train Loss: 0.0103 Acc: 0.9976\n",
            "val Loss: 0.0293 Acc: 0.9903\n",
            "\n",
            "Epoch 24/24\n",
            "----------\n",
            "train Loss: 0.0103 Acc: 0.9976\n",
            "val Loss: 0.0293 Acc: 0.9903\n",
            "\n",
            "Training complete in 7m 0s\n",
            "Best val Acc: 0.991000\n"
          ],
          "name": "stdout"
        }
      ]
    },
    {
      "cell_type": "code",
      "metadata": {
        "id": "jsjVHTKBTPV0",
        "colab_type": "code",
        "colab": {}
      },
      "source": [
        ""
      ],
      "execution_count": 0,
      "outputs": []
    }
  ]
}